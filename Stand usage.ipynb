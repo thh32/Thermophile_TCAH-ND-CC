{
 "cells": [
  {
   "cell_type": "code",
   "execution_count": 1,
   "metadata": {
    "collapsed": true
   },
   "outputs": [],
   "source": [
    "import HTSeq\n",
    "import glob\n",
    "import matplotlib.pyplot as plt\n",
    "import seaborn\n",
    "import numpy\n",
    "from scipy.stats.stats import pearsonr\n",
    "import itertools\n"
   ]
  },
  {
   "cell_type": "code",
   "execution_count": 14,
   "metadata": {
    "collapsed": false
   },
   "outputs": [
    {
     "name": "stdout",
     "output_type": "stream",
     "text": [
      "Studied_genomes/Aeropyrum pernix.gff3\n",
      "1664 1950\n",
      "Studied_genomes/Aquifex aeolicus.gff3\n",
      "1675 1504\n",
      "Studied_genomes/Archaeoglobus fulgidus.gff3\n",
      "2511 2527\n",
      "Studied_genomes/Hyperthermus butyilicus.gff3\n",
      "1814 1790\n",
      "Studied_genomes/Methanococcus jannaschii.gff3\n",
      "1884 1753\n",
      "Studied_genomes/Methanopyrus kandleri AV19.gff3\n",
      "1776 1747\n",
      "Studied_genomes/Methanothermus fervidus.gff3\n",
      "1448 1369\n",
      "Studied_genomes/Pyrococcus furiosus.gff3\n",
      "2166 2140\n",
      "Studied_genomes/Pyrodicitium abyssi.gff3\n",
      "1947 1982\n",
      "Studied_genomes/Pyrolobus fumarii.gff3\n",
      "2051 1943\n",
      "Studied_genomes/Sulfolobus acidocaldarius.gff3\n",
      "2334 2417\n",
      "Studied_genomes/Thermocrinis minervae.gff3\n",
      "1560 1541\n",
      "Studied_genomes/Thermocrinis ruber.gff3\n",
      "1792 1603\n",
      "Studied_genomes/Thermotoga maritima.gff3\n",
      "2145 1752\n"
     ]
    }
   ],
   "source": [
    "strand_usage = {}\n",
    "\n",
    "for cfile in glob.glob('Studied_genomes/*.gff3'):\n",
    "    print cfile\n",
    "    pos = 0\n",
    "    neg = 0\n",
    "    for line in open(cfile,'r'):\n",
    "        if line.startswith('#') or line == '\\n':\n",
    "            continue\n",
    "        else:\n",
    "            timber = line.split('\\t')\n",
    "            stand = timber[6]\n",
    "            if stand == '-':\n",
    "                neg +=1\n",
    "            elif stand == '+':\n",
    "                pos +=1\n",
    "    print pos, neg\n",
    "    proportion = (float(pos)/(pos + neg))*100\n",
    "    strand_usage[cfile.split('/')[1].split('.')[0].replace('_',' ')] = proportion"
   ]
  },
  {
   "cell_type": "code",
   "execution_count": 15,
   "metadata": {
    "collapsed": false
   },
   "outputs": [
    {
     "data": {
      "text/plain": [
       "{'Aeropyrum pernix': 46.043165467625904,\n",
       " 'Aquifex aeolicus': 52.68952500786411,\n",
       " 'Archaeoglobus fulgidus': 49.841206828106394,\n",
       " 'Hyperthermus butyilicus': 50.332963374028864,\n",
       " 'Methanococcus jannaschii': 51.800934836403634,\n",
       " 'Methanopyrus kandleri AV19': 50.41158103888731,\n",
       " 'Methanothermus fervidus': 51.4022009229677,\n",
       " 'Pyrococcus furiosus': 50.30190431955411,\n",
       " 'Pyrodicitium abyssi': 49.55459404428608,\n",
       " 'Pyrolobus fumarii': 51.35202804206309,\n",
       " 'Sulfolobus acidocaldarius': 49.12649968427699,\n",
       " 'Thermocrinis minervae': 50.30635278942277,\n",
       " 'Thermocrinis ruber': 52.78350515463918,\n",
       " 'Thermotoga maritima': 55.042340261739795}"
      ]
     },
     "execution_count": 15,
     "metadata": {},
     "output_type": "execute_result"
    }
   ],
   "source": [
    "strand_usage"
   ]
  },
  {
   "cell_type": "code",
   "execution_count": 16,
   "metadata": {
    "collapsed": false
   },
   "outputs": [
    {
     "name": "stderr",
     "output_type": "stream",
     "text": [
      "/Users/thomashitch/lab-dev/lib/python2.7/site-packages/matplotlib/collections.py:590: FutureWarning: elementwise comparison failed; returning scalar instead, but in the future will perform elementwise comparison\n",
      "  if self._edgecolors == str('face'):\n"
     ]
    },
    {
     "data": {
      "image/png": "[encoded data removed]",
      "text/plain": [
       "<matplotlib.figure.Figure at 0x11313b150>"
      ]
     },
     "metadata": {},
     "output_type": "display_data"
    },
    {
     "name": "stdout",
     "output_type": "stream",
     "text": [
      "(-0.25388396388604273, 0.38110629423989811)\n"
     ]
    }
   ],
   "source": [
    "Temp = [100,95,95,112,85,122,97,105,110,113,85,85,89,90]\n",
    "\n",
    "values = []\n",
    "for k,v in strand_usage.iteritems():\n",
    "\n",
    "        \n",
    "    values.append(v)\n",
    "        \n",
    "        \n",
    "plt.scatter(Temp,values)\n",
    "plt.xlabel('Temperature ')\n",
    "plt.ylabel('Proportion of position strand usage ')\n",
    "plt.show()\n",
    "print pearsonr(Temp,values )\n"
   ]
  },
  {
   "cell_type": "code",
   "execution_count": null,
   "metadata": {
    "collapsed": true
   },
   "outputs": [],
   "source": []
  }
 ],
 "metadata": {
  "kernelspec": {
   "display_name": "Python 2",
   "language": "python",
   "name": "python2"
  },
  "language_info": {
   "codemirror_mode": {
    "name": "ipython",
    "version": 2
   },
   "file_extension": ".py",
   "mimetype": "text/x-python",
   "name": "python",
   "nbconvert_exporter": "python",
   "pygments_lexer": "ipython2",
   "version": "2.7.10"
  }
 },
 "nbformat": 4,
 "nbformat_minor": 0
}
