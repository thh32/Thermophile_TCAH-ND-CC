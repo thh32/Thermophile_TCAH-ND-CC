{
 "cells": [
  {
   "cell_type": "code",
   "execution_count": 36,
   "metadata": {
    "collapsed": true
   },
   "outputs": [],
   "source": [
    "import HTSeq\n",
    "import glob\n",
    "import matplotlib.pyplot as plt\n",
    "import seaborn\n",
    "import numpy\n",
    "from scipy.stats.stats import pearsonr\n",
    "import scipy\n",
    "import itertools\n",
    "import pandas as pd\n"
   ]
  },
  {
   "cell_type": "markdown",
   "metadata": {},
   "source": [
    "#Codon dic"
   ]
  },
  {
   "cell_type": "code",
   "execution_count": 39,
   "metadata": {
    "collapsed": false
   },
   "outputs": [
    {
     "name": "stdout",
     "output_type": "stream",
     "text": [
      "CDS_extracted/Aeropyrum_pernix.CDS.fa\n",
      "CDS_extracted/Aquifex_aeolicus.CDS.fa\n",
      "CDS_extracted/Archaeoglobus_fulgidus.CDS.fa\n",
      "CDS_extracted/Hyperthermus_butyilicus.CDS.fa\n",
      "CDS_extracted/Methanococcus_jannaschii.CDS.fa\n",
      "CDS_extracted/Methanopyrus_kandleri.CDS.fa\n",
      "CDS_extracted/Methanothermus_fervidus.CDS.fa\n",
      "CDS_extracted/Pyrococcus_feriosus.CDS.fa\n",
      "CDS_extracted/Pyrodicitium_abyssi.CDS.fa\n",
      "CDS_extracted/Pyrolobus_fumarii.CDS.fa\n",
      "CDS_extracted/Sulfolobus_acidocaldarius.CDS.fa\n",
      "CDS_extracted/Thermocrinis_minervae.CDS.fa\n",
      "CDS_extracted/Thermocrinis_ruber.CDS.fa\n",
      "CDS_extracted/Thermotoga_maritima.CDS.fa\n"
     ]
    }
   ],
   "source": [
    "import re\n",
    "import re\n",
    "\n",
    "Thermo_codons = {}\n",
    "\n",
    "for cfile in glob.glob('CDS_extracted/*.fa'):\n",
    "    print cfile\n",
    "    temp = {}\n",
    "    for read in HTSeq.FastaReader(cfile):\n",
    "        sequence = read.seq\n",
    "        all_codons = re.findall('...',sequence)\n",
    "        for codon in all_codons:\n",
    "            if codon in temp:\n",
    "                temp[codon] +=1\n",
    "            else:\n",
    "                temp[codon] = 1\n",
    "    Thermo_codons[cfile.split('/')[1].split('.')[0].replace('_',' ')] = temp"
   ]
  },
  {
   "cell_type": "code",
   "execution_count": 40,
   "metadata": {
    "collapsed": false
   },
   "outputs": [
    {
     "name": "stdout",
     "output_type": "stream",
     "text": [
      "Other_genomes/Mesophile/Cenarchaeum_symbiosum_a.ASM20071v1.cds.all.fa\n",
      "Other_genomes/Mesophile/Haladaptatus_paucihalophilus_dx253.ASM18722v1.cds.all.fa\n",
      "Other_genomes/Mesophile/Halalkalicoccus_jeotgali_b3_gca_000337255.ASM33725v1.cds.all.fa\n",
      "Other_genomes/Mesophile/Methanococcoides_burtonii_dsm_6242.ASM1372v1.cds.all.fa\n",
      "Other_genomes/Mesophile/Methanococcoides_methylutens_mm1.ASM97032v1.cds.all.fa\n",
      "Other_genomes/Mesophile/Methanosarcina_lacustris_z_7289.ASM97026v1.cds.all.fa\n",
      "Other_genomes/Mesophile/Nanohaloarchaea_archaeon_sg9.ASM176142v1.cds.all.fa\n",
      "Other_genomes/Mesophile/Nitrosopumilus_maritimus_scm1.ASM1846v1.cds.all.fa\n"
     ]
    }
   ],
   "source": [
    "import re\n",
    "import re\n",
    "\n",
    "Meso_codons = {}\n",
    "\n",
    "for cfile in glob.glob('Other_genomes/Mesophile/*.fa'):\n",
    "    print cfile\n",
    "    temp = {}\n",
    "    for read in HTSeq.FastaReader(cfile):\n",
    "        sequence = read.seq\n",
    "        all_codons = re.findall('...',sequence)\n",
    "        for codon in all_codons:\n",
    "            if codon in temp:\n",
    "                temp[codon] +=1\n",
    "            else:\n",
    "                temp[codon] = 1\n",
    "    Meso_codons[cfile.split('/')[2].split('.')[0].replace('_',' ')] = temp"
   ]
  },
  {
   "cell_type": "code",
   "execution_count": 41,
   "metadata": {
    "collapsed": true
   },
   "outputs": [],
   "source": [
    "Thermo_bases_position = {}\n",
    "\n",
    "for k,v in Thermo_codons.iteritems():\n",
    "    temp1 = {}\n",
    "    temp2 = {}\n",
    "    temp3 = {}\n",
    "    for g,h in v.iteritems():\n",
    "        listing = list(g)\n",
    "        if listing[0] in temp:\n",
    "            temp1[listing[0]] += h\n",
    "        else:\n",
    "            temp1[listing[0]] = h\n",
    "        if listing[1] in temp:\n",
    "            temp2[listing[1]] += h\n",
    "        else:\n",
    "            temp2[listing[1]] = h\n",
    "        if listing[2] in temp:\n",
    "            temp3[listing[2]] += h\n",
    "        else:\n",
    "            temp3[listing[2]] = h\n",
    "    Thermo_bases_position[k] = [temp1,temp2,temp3]\n",
    "    \n",
    "    \n",
    "    \n",
    "Meso_bases_position = {}\n",
    "\n",
    "for k,v in Meso_codons.iteritems():\n",
    "    temp1 = {}\n",
    "    temp2 = {}\n",
    "    temp3 = {}\n",
    "    for g,h in v.iteritems():\n",
    "        listing = list(g)\n",
    "        if listing[0] in temp:\n",
    "            temp1[listing[0]] += h\n",
    "        else:\n",
    "            temp1[listing[0]] = h\n",
    "        if listing[1] in temp:\n",
    "            temp2[listing[1]] += h\n",
    "        else:\n",
    "            temp2[listing[1]] = h\n",
    "        if listing[2] in temp:\n",
    "            temp3[listing[2]] += h\n",
    "        else:\n",
    "            temp3[listing[2]] = h\n",
    "    Meso_bases_position[k] = [temp1,temp2,temp3]"
   ]
  },
  {
   "cell_type": "code",
   "execution_count": 42,
   "metadata": {
    "collapsed": false
   },
   "outputs": [
    {
     "data": {
      "text/plain": [
       "{'Cenarchaeum symbiosum a': [{'A': 1, 'C': 9022, 'G': 1, 'N': 73, 'T': 371},\n",
       "  {'A': 371, 'C': 4039, 'G': 9022, 'N': 73, 'T': 1},\n",
       "  {'A': 371, 'C': 9022, 'G': 17697, 'N': 73, 'T': 1538}],\n",
       " 'Haladaptatus paucihalophilus dx253': [{'A': 1970,\n",
       "   'C': 29336,\n",
       "   'G': 5623,\n",
       "   'T': 1161},\n",
       "  {'A': 1161, 'C': 16153, 'G': 29336, 'T': 10268},\n",
       "  {'A': 1161, 'C': 29336, 'G': 10268, 'T': 5623}],\n",
       " 'Halalkalicoccus jeotgali b3 gca 000337255': [{'A': 3552,\n",
       "   'C': 1,\n",
       "   'G': 26153,\n",
       "   'N': 3,\n",
       "   'T': 11543},\n",
       "  {'A': 26153, 'C': 3, 'G': 11543, 'N': 1, 'T': 1},\n",
       "  {'A': 1, 'C': 3, 'G': 66057, 'N': 1, 'T': 18116}],\n",
       " 'Methanococcoides burtonii dsm 6242': [{'A': 9012,\n",
       "   'C': 5441,\n",
       "   'G': 13266,\n",
       "   'T': 9009},\n",
       "  {'A': 1027, 'C': 9009, 'G': 5441, 'T': 8527},\n",
       "  {'A': 1027, 'C': 9012, 'G': 8527, 'T': 9009}],\n",
       " 'Methanococcoides methylutens mm1': [{'A': 10612,\n",
       "   'C': 3565,\n",
       "   'G': 16758,\n",
       "   'T': 958},\n",
       "  {'A': 958, 'C': 10612, 'G': 3565, 'T': 14561},\n",
       "  {'A': 958, 'C': 3565, 'G': 11646, 'T': 5240}],\n",
       " 'Methanosarcina lacustris z 7289': [{'A': 15237,\n",
       "   'C': 4996,\n",
       "   'G': 18529,\n",
       "   'T': 1622},\n",
       "  {'A': 1622, 'C': 14016, 'G': 4996, 'T': 7286},\n",
       "  {'A': 1622, 'C': 4996, 'G': 7286, 'T': 18529}],\n",
       " 'Nanohaloarchaea archaeon sg9': [{'A': 3776, 'C': 813, 'G': 21684, 'T': 501},\n",
       "  {'A': 501, 'C': 4643, 'G': 813, 'T': 5464},\n",
       "  {'A': 501, 'C': 813, 'G': 3344, 'T': 1666}],\n",
       " 'Nitrosopumilus maritimus scm1': [{'A': 6227, 'C': 486, 'G': 7098, 'T': 418},\n",
       "  {'A': 7098, 'C': 7173, 'G': 486, 'T': 14244},\n",
       "  {'A': 418, 'C': 486, 'G': 2991, 'T': 2325}]}"
      ]
     },
     "execution_count": 42,
     "metadata": {},
     "output_type": "execute_result"
    }
   ],
   "source": [
    "Meso_bases_position"
   ]
  },
  {
   "cell_type": "code",
   "execution_count": 43,
   "metadata": {
    "collapsed": true
   },
   "outputs": [],
   "source": [
    "Meso_bases_position2 = {}\n",
    "\n",
    "for k,v in Meso_bases_position.iteritems(): # Genome and position list of dics\n",
    "    temp = []\n",
    "    for i in v: # list of dics\n",
    "        temp2 = {}\n",
    "        GC = 0\n",
    "        AT = 0\n",
    "        for g,h in i.iteritems():\n",
    "            if g == 'A' or g == 'T':\n",
    "                AT += h\n",
    "            elif g == 'C' or g == 'G':\n",
    "                GC += h\n",
    "        temp2['GC'] = GC\n",
    "        temp2['AT'] = AT\n",
    "        temp.append(temp2)\n",
    "    Meso_bases_position2[k] = temp\n",
    "    \n",
    "    \n",
    "\n",
    "    \n",
    "Thermo_bases_position2 = {}\n",
    "\n",
    "for k,v in Thermo_bases_position.iteritems(): # Genome and position list of dics\n",
    "    temp = []\n",
    "    for i in v: # list of dics\n",
    "        temp2 = {}\n",
    "        GC = 0\n",
    "        AT = 0\n",
    "        for g,h in i.iteritems():\n",
    "            if g == 'A' or g == 'T':\n",
    "                AT += h\n",
    "            elif g == 'C' or g == 'G':\n",
    "                GC += h\n",
    "        temp2['GC'] = GC\n",
    "        temp2['AT'] = AT\n",
    "        temp.append(temp2)\n",
    "    Thermo_bases_position2[k] = temp"
   ]
  },
  {
   "cell_type": "code",
   "execution_count": 44,
   "metadata": {
    "collapsed": false
   },
   "outputs": [
    {
     "data": {
      "text/plain": [
       "{'Cenarchaeum symbiosum a': [{'AT': 372, 'GC': 9023},\n",
       "  {'AT': 372, 'GC': 13061},\n",
       "  {'AT': 1909, 'GC': 26719}],\n",
       " 'Haladaptatus paucihalophilus dx253': [{'AT': 3131, 'GC': 34959},\n",
       "  {'AT': 11429, 'GC': 45489},\n",
       "  {'AT': 6784, 'GC': 39604}],\n",
       " 'Halalkalicoccus jeotgali b3 gca 000337255': [{'AT': 15095, 'GC': 26154},\n",
       "  {'AT': 26154, 'GC': 11546},\n",
       "  {'AT': 18117, 'GC': 66060}],\n",
       " 'Methanococcoides burtonii dsm 6242': [{'AT': 18021, 'GC': 18707},\n",
       "  {'AT': 9554, 'GC': 14450},\n",
       "  {'AT': 10036, 'GC': 17539}],\n",
       " 'Methanococcoides methylutens mm1': [{'AT': 11570, 'GC': 20323},\n",
       "  {'AT': 15519, 'GC': 14177},\n",
       "  {'AT': 6198, 'GC': 15211}],\n",
       " 'Methanosarcina lacustris z 7289': [{'AT': 16859, 'GC': 23525},\n",
       "  {'AT': 8908, 'GC': 19012},\n",
       "  {'AT': 20151, 'GC': 12282}],\n",
       " 'Nanohaloarchaea archaeon sg9': [{'AT': 4277, 'GC': 22497},\n",
       "  {'AT': 5965, 'GC': 5456},\n",
       "  {'AT': 2167, 'GC': 4157}],\n",
       " 'Nitrosopumilus maritimus scm1': [{'AT': 6645, 'GC': 7584},\n",
       "  {'AT': 21342, 'GC': 7659},\n",
       "  {'AT': 2743, 'GC': 3477}]}"
      ]
     },
     "execution_count": 44,
     "metadata": {},
     "output_type": "execute_result"
    }
   ],
   "source": [
    "Meso_bases_position2"
   ]
  },
  {
   "cell_type": "code",
   "execution_count": 45,
   "metadata": {
    "collapsed": false
   },
   "outputs": [
    {
     "name": "stdout",
     "output_type": "stream",
     "text": [
      "8\n",
      "14\n"
     ]
    }
   ],
   "source": [
    "outputting = open('Comparison_GC2.csv','w')\n",
    "\n",
    "listingM = []\n",
    "for k,v in Meso_bases_position2.iteritems():\n",
    "    GC = v[2]['GC']\n",
    "    AT = v[2]['AT']\n",
    "    perc = (float(GC) / (GC+AT))*100\n",
    "    listingM.append(perc)\n",
    "    \n",
    "listingT = []\n",
    "for k,v in Thermo_bases_position2.iteritems():\n",
    "    GC = v[2]['GC']\n",
    "    AT = v[2]['AT']\n",
    "    perc = (float(GC) / (GC+AT))*100\n",
    "    listingT.append(perc)\n",
    "\n",
    "print len(listingM)\n",
    "print len(listingT)\n",
    "\n",
    "\n",
    "    "
   ]
  },
  {
   "cell_type": "code",
   "execution_count": 46,
   "metadata": {
    "collapsed": false
   },
   "outputs": [
    {
     "data": {
      "text/plain": [
       "MannwhitneyuResult(statistic=32.0, pvalue=0.054364682400098015)"
      ]
     },
     "execution_count": 46,
     "metadata": {},
     "output_type": "execute_result"
    }
   ],
   "source": [
    "scipy.stats.mannwhitneyu(listingM,listingT)"
   ]
  },
  {
   "cell_type": "code",
   "execution_count": null,
   "metadata": {
    "collapsed": false
   },
   "outputs": [],
   "source": []
  },
  {
   "cell_type": "code",
   "execution_count": null,
   "metadata": {
    "collapsed": false
   },
   "outputs": [],
   "source": []
  },
  {
   "cell_type": "code",
   "execution_count": 28,
   "metadata": {
    "collapsed": false
   },
   "outputs": [],
   "source": [
    "df = pd.DataFrame(numpy.random.rand(12,2), columns=['Apples', 'Oranges'] )"
   ]
  },
  {
   "cell_type": "code",
   "execution_count": 30,
   "metadata": {
    "collapsed": false
   },
   "outputs": [
    {
     "data": {
      "text/plain": [
       "array([[ 0.23561792,  0.35829681],\n",
       "       [ 0.20642429,  0.23850655],\n",
       "       [ 0.77956605,  0.22525845],\n",
       "       [ 0.51668672,  0.02773528],\n",
       "       [ 0.14485115,  0.40407948],\n",
       "       [ 0.36129411,  0.11828458],\n",
       "       [ 0.79764056,  0.92126485],\n",
       "       [ 0.11122482,  0.04907585],\n",
       "       [ 0.5594418 ,  0.97149665],\n",
       "       [ 0.95714526,  0.12975981],\n",
       "       [ 0.8356221 ,  0.72166909],\n",
       "       [ 0.7880524 ,  0.09407285]])"
      ]
     },
     "execution_count": 30,
     "metadata": {},
     "output_type": "execute_result"
    }
   ],
   "source": [
    "numpy.random.rand(12,2)"
   ]
  },
  {
   "cell_type": "code",
   "execution_count": null,
   "metadata": {
    "collapsed": true
   },
   "outputs": [],
   "source": []
  }
 ],
 "metadata": {
  "kernelspec": {
   "display_name": "Python 2",
   "language": "python",
   "name": "python2"
  },
  "language_info": {
   "codemirror_mode": {
    "name": "ipython",
    "version": 2
   },
   "file_extension": ".py",
   "mimetype": "text/x-python",
   "name": "python",
   "nbconvert_exporter": "python",
   "pygments_lexer": "ipython2",
   "version": "2.7.10"
  }
 },
 "nbformat": 4,
 "nbformat_minor": 0
}
